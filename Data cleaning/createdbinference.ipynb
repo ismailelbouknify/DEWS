{
 "cells": [
  {
   "cell_type": "code",
   "execution_count": 2,
   "metadata": {},
   "outputs": [
    {
     "name": "stdout",
     "output_type": "stream",
     "text": [
      "Defaulting to user installation because normal site-packages is not writeable\n",
      "Requirement already satisfied: pandas in /home/elmehdi/.local/lib/python3.10/site-packages (2.2.2)\n",
      "Requirement already satisfied: python-dateutil>=2.8.2 in /home/elmehdi/.local/lib/python3.10/site-packages (from pandas) (2.9.0.post0)\n",
      "Requirement already satisfied: pytz>=2020.1 in /home/elmehdi/.local/lib/python3.10/site-packages (from pandas) (2024.1)\n",
      "Requirement already satisfied: numpy>=1.22.4 in /home/elmehdi/.local/lib/python3.10/site-packages (from pandas) (1.26.4)\n",
      "Requirement already satisfied: tzdata>=2022.7 in /home/elmehdi/.local/lib/python3.10/site-packages (from pandas) (2024.1)\n",
      "Requirement already satisfied: six>=1.5 in /usr/lib/python3/dist-packages (from python-dateutil>=2.8.2->pandas) (1.16.0)\n",
      "Note: you may need to restart the kernel to use updated packages.\n"
     ]
    }
   ],
   "source": [
    "%pip install pandas"
   ]
  },
  {
   "cell_type": "code",
   "execution_count": 1,
   "metadata": {},
   "outputs": [],
   "source": [
    "import pandas as pd"
   ]
  },
  {
   "cell_type": "code",
   "execution_count": 2,
   "metadata": {},
   "outputs": [],
   "source": [
    "df1 = pd.read_csv(\"Dataset/Data_middle_1.csv\")\n",
    "df2 = pd.read_csv(\"Dataset/Data_middle_2.csv\")\n",
    "df3 = pd.read_csv(\"Dataset/Data_middle_3.csv\")"
   ]
  },
  {
   "cell_type": "code",
   "execution_count": 5,
   "metadata": {},
   "outputs": [],
   "source": [
    "concatenated_df = pd.concat([df1, df2, df3], ignore_index=True)"
   ]
  },
  {
   "cell_type": "code",
   "execution_count": 6,
   "metadata": {},
   "outputs": [
    {
     "data": {
      "text/plain": [
       "id_eleve              431875\n",
       "id_annee                   5\n",
       "cd_etab                  296\n",
       "id_classe              27405\n",
       "MoyenneGen_i1           1946\n",
       "                       ...  \n",
       "absence_exam_18_i1         4\n",
       "absence_exam_19_i1         4\n",
       "absence_exam_20_i1         4\n",
       "absence_exam_23_i1         4\n",
       "absence_exam_24_i1         4\n",
       "Length: 72, dtype: int64"
      ]
     },
     "execution_count": 6,
     "metadata": {},
     "output_type": "execute_result"
    }
   ],
   "source": [
    "concatenated_df.nunique()"
   ]
  },
  {
   "cell_type": "code",
   "execution_count": 5,
   "metadata": {},
   "outputs": [
    {
     "name": "stdout",
     "output_type": "stream",
     "text": [
      "Requirement already satisfied: elasticsearch in c:\\users\\pc\\anaconda3\\envs\\dews\\lib\\site-packages (8.15.1)\n",
      "Requirement already satisfied: elastic-transport<9,>=8.13 in c:\\users\\pc\\anaconda3\\envs\\dews\\lib\\site-packages (from elasticsearch) (8.15.0)\n",
      "Requirement already satisfied: urllib3<3,>=1.26.2 in c:\\users\\pc\\anaconda3\\envs\\dews\\lib\\site-packages (from elastic-transport<9,>=8.13->elasticsearch) (2.2.3)\n",
      "Requirement already satisfied: certifi in c:\\users\\pc\\anaconda3\\envs\\dews\\lib\\site-packages (from elastic-transport<9,>=8.13->elasticsearch) (2024.8.30)\n",
      "Note: you may need to restart the kernel to use updated packages.\n"
     ]
    }
   ],
   "source": [
    "%pip install elasticsearch"
   ]
  },
  {
   "cell_type": "code",
   "execution_count": 8,
   "metadata": {},
   "outputs": [],
   "source": [
    "from elasticsearch import Elasticsearch\n",
    "\n",
    "es = Elasticsearch(\n",
    "    [\"https://localhost:9200/\"],\n",
    "    basic_auth=(\"elastic\", \"+TQ3lG=S3jAfZb7RE59j\"),\n",
    "    verify_certs=True,\n",
    "    ca_certs=\"C:/Users/pc/OneDrive/Documents/elasticsearch/ca.crt\"  # Use the local path to the copied certificate\n",
    ")"
   ]
  },
  {
   "cell_type": "code",
   "execution_count": 11,
   "metadata": {},
   "outputs": [
    {
     "name": "stdout",
     "output_type": "stream",
     "text": [
      "Indexed 349800 documents\n"
     ]
    },
    {
     "data": {
      "text/plain": [
       "ObjectApiResponse({'_shards': {'total': 2, 'successful': 1, 'failed': 0}})"
      ]
     },
     "execution_count": 11,
     "metadata": {},
     "output_type": "execute_result"
    }
   ],
   "source": [
    "from elasticsearch import Elasticsearch, helpers\n",
    "import pandas as pd\n",
    "\n",
    "# Elasticsearch authentication credentials\n",
    "ELASTIC_PASSWORD = \"+TQ3lG=S3jAfZb7RE59j\"\n",
    "\n",
    "# Create the Elasticsearch client with authentication\n",
    "# es = Elasticsearch(\"https://localhost:9200/\", basic_auth=(\"elastic\", ELASTIC_PASSWORD))\n",
    "\n",
    "es = Elasticsearch(\n",
    "    \"https://localhost:9200/\",\n",
    "    basic_auth=(\"elastic\", ELASTIC_PASSWORD),\n",
    "    verify_certs=False,  # Disable SSL certificate verification\n",
    "    ssl_show_warn=False  # Suppress SSL warnings\n",
    ")\n",
    "\n",
    "# Create a generator to yield documents in the required format\n",
    "def doc_generator(df1):\n",
    "    for index, document in df1.iterrows():\n",
    "        yield {\n",
    "            \"_index\": \"data_middle_1\",\n",
    "            # \"_type\": \"_doc\",\n",
    "            \"_id\": f\"doc_{index}\",\n",
    "            \"_source\": document.to_dict(),\n",
    "        }\n",
    "\n",
    "# Use helpers.bulk() to index documents in bulk\n",
    "try:\n",
    "    res = helpers.bulk(es, doc_generator(df1))\n",
    "    print(f\"Indexed {res[0]} documents\")\n",
    "except Exception as e:\n",
    "    print(\"Error:\", e)\n",
    "\n",
    "# Refresh the index to make the documents available for search\n",
    "es.indices.refresh(index=\"data_middle_1\")\n"
   ]
  },
  {
   "cell_type": "code",
   "execution_count": 13,
   "metadata": {},
   "outputs": [
    {
     "data": {
      "text/html": [
       "<div>\n",
       "<style scoped>\n",
       "    .dataframe tbody tr th:only-of-type {\n",
       "        vertical-align: middle;\n",
       "    }\n",
       "\n",
       "    .dataframe tbody tr th {\n",
       "        vertical-align: top;\n",
       "    }\n",
       "\n",
       "    .dataframe thead th {\n",
       "        text-align: right;\n",
       "    }\n",
       "</style>\n",
       "<table border=\"1\" class=\"dataframe\">\n",
       "  <thead>\n",
       "    <tr style=\"text-align: right;\">\n",
       "      <th></th>\n",
       "      <th>id_eleve</th>\n",
       "      <th>id_annee</th>\n",
       "      <th>cd_etab</th>\n",
       "      <th>id_classe</th>\n",
       "      <th>MoyenneGen_i1</th>\n",
       "      <th>NbrJourAbsenceAutorise_i1</th>\n",
       "      <th>NbrUniteAbsenceAutorise_i1</th>\n",
       "      <th>NbrJourAbsenceNonAutorise_i1</th>\n",
       "      <th>NbrUniteAbsenceNonAutorise_i1</th>\n",
       "      <th>MCaRtable_i1</th>\n",
       "      <th>...</th>\n",
       "      <th>target</th>\n",
       "      <th>id_genre</th>\n",
       "      <th>datenaiseleve</th>\n",
       "      <th>nationalite</th>\n",
       "      <th>id_handicap</th>\n",
       "      <th>Adress</th>\n",
       "      <th>Préscolarisé</th>\n",
       "      <th>profession_mere</th>\n",
       "      <th>profession_pere</th>\n",
       "      <th>Level</th>\n",
       "    </tr>\n",
       "  </thead>\n",
       "  <tbody>\n",
       "    <tr>\n",
       "      <th>0</th>\n",
       "      <td>6490173</td>\n",
       "      <td>11</td>\n",
       "      <td>02450M</td>\n",
       "      <td>031891E6-6AAB-42E6-B713-CCF13807112F</td>\n",
       "      <td>10.90</td>\n",
       "      <td>56.0</td>\n",
       "      <td>0.0</td>\n",
       "      <td>0.0</td>\n",
       "      <td>0.0</td>\n",
       "      <td>0</td>\n",
       "      <td>...</td>\n",
       "      <td>0.0</td>\n",
       "      <td>1</td>\n",
       "      <td>2005</td>\n",
       "      <td>1</td>\n",
       "      <td>0.0</td>\n",
       "      <td>رقم 286بلوك 10 رباط الخير</td>\n",
       "      <td>1</td>\n",
       "      <td>inconnu</td>\n",
       "      <td>Facteur</td>\n",
       "      <td>7</td>\n",
       "    </tr>\n",
       "    <tr>\n",
       "      <th>1</th>\n",
       "      <td>1989718</td>\n",
       "      <td>11</td>\n",
       "      <td>02450M</td>\n",
       "      <td>031891E6-6AAB-42E6-B713-CCF13807112F</td>\n",
       "      <td>10.88</td>\n",
       "      <td>46.0</td>\n",
       "      <td>0.0</td>\n",
       "      <td>0.0</td>\n",
       "      <td>2.0</td>\n",
       "      <td>0</td>\n",
       "      <td>...</td>\n",
       "      <td>0.0</td>\n",
       "      <td>2</td>\n",
       "      <td>2006</td>\n",
       "      <td>1</td>\n",
       "      <td>0.0</td>\n",
       "      <td>دوار ناس مزيان رباط الخير</td>\n",
       "      <td>1</td>\n",
       "      <td>inconnu</td>\n",
       "      <td>utilisateur</td>\n",
       "      <td>7</td>\n",
       "    </tr>\n",
       "  </tbody>\n",
       "</table>\n",
       "<p>2 rows × 58 columns</p>\n",
       "</div>"
      ],
      "text/plain": [
       "   id_eleve  id_annee cd_etab                             id_classe  \\\n",
       "0   6490173        11  02450M  031891E6-6AAB-42E6-B713-CCF13807112F   \n",
       "1   1989718        11  02450M  031891E6-6AAB-42E6-B713-CCF13807112F   \n",
       "\n",
       "   MoyenneGen_i1  NbrJourAbsenceAutorise_i1  NbrUniteAbsenceAutorise_i1  \\\n",
       "0          10.90                       56.0                         0.0   \n",
       "1          10.88                       46.0                         0.0   \n",
       "\n",
       "   NbrJourAbsenceNonAutorise_i1  NbrUniteAbsenceNonAutorise_i1  MCaRtable_i1  \\\n",
       "0                           0.0                            0.0             0   \n",
       "1                           0.0                            2.0             0   \n",
       "\n",
       "   ...  target  id_genre  datenaiseleve  nationalite  id_handicap  \\\n",
       "0  ...     0.0         1           2005            1          0.0   \n",
       "1  ...     0.0         2           2006            1          0.0   \n",
       "\n",
       "                      Adress  Préscolarisé  profession_mere  profession_pere  \\\n",
       "0  رقم 286بلوك 10 رباط الخير             1          inconnu          Facteur   \n",
       "1  دوار ناس مزيان رباط الخير             1          inconnu      utilisateur   \n",
       "\n",
       "   Level  \n",
       "0      7  \n",
       "1      7  \n",
       "\n",
       "[2 rows x 58 columns]"
      ]
     },
     "execution_count": 13,
     "metadata": {},
     "output_type": "execute_result"
    }
   ],
   "source": [
    "response = es.search(index=\"data_middle_1\", body={\"query\": {\"match_all\": {}}})\n",
    "\n",
    "# Process the response (e.g., convert to DataFrame)\n",
    "hits = response[\"hits\"][\"hits\"]\n",
    "df_classes= pd.DataFrame([hit[\"_source\"] for hit in hits])\n",
    "\n",
    "# Display the DataFrame\n",
    "df_classes.head(2)\n"
   ]
  },
  {
   "cell_type": "markdown",
   "metadata": {},
   "source": [
    "Create data_middle_2"
   ]
  },
  {
   "cell_type": "code",
   "execution_count": 16,
   "metadata": {},
   "outputs": [
    {
     "name": "stdout",
     "output_type": "stream",
     "text": [
      "Indexed 286548 documents\n"
     ]
    },
    {
     "data": {
      "text/plain": [
       "ObjectApiResponse({'_shards': {'total': 2, 'successful': 1, 'failed': 0}})"
      ]
     },
     "execution_count": 16,
     "metadata": {},
     "output_type": "execute_result"
    }
   ],
   "source": [
    "\n",
    "# Create the index if it does not exist\n",
    "if not es.indices.exists(index=\"data_middle_2\"):\n",
    "    es.indices.create(index=\"data_middle_2\")\n",
    "\n",
    "# Create a generator to yield documents in the required format\n",
    "def doc_generator(df2):\n",
    "    for index, document in df2.iterrows():\n",
    "        yield {\n",
    "            \"_index\": \"data_middle_2\",\n",
    "            \"_id\": f\"doc_{index}\",\n",
    "            \"_source\": document.to_dict(),\n",
    "        }\n",
    "\n",
    "# Use helpers.bulk() to index documents in bulk\n",
    "try:\n",
    "    res = helpers.bulk(es, doc_generator(df2))\n",
    "    print(f\"Indexed {res[0]} documents\")\n",
    "except Exception as e:\n",
    "    print(\"Error:\", e)\n",
    "\n",
    "# Refresh the index to make the documents available for search\n",
    "es.indices.refresh(index=\"data_middle_2\")\n"
   ]
  },
  {
   "cell_type": "code",
   "execution_count": 17,
   "metadata": {},
   "outputs": [
    {
     "data": {
      "text/html": [
       "<div>\n",
       "<style scoped>\n",
       "    .dataframe tbody tr th:only-of-type {\n",
       "        vertical-align: middle;\n",
       "    }\n",
       "\n",
       "    .dataframe tbody tr th {\n",
       "        vertical-align: top;\n",
       "    }\n",
       "\n",
       "    .dataframe thead th {\n",
       "        text-align: right;\n",
       "    }\n",
       "</style>\n",
       "<table border=\"1\" class=\"dataframe\">\n",
       "  <thead>\n",
       "    <tr style=\"text-align: right;\">\n",
       "      <th></th>\n",
       "      <th>id_eleve</th>\n",
       "      <th>id_annee</th>\n",
       "      <th>cd_etab</th>\n",
       "      <th>id_classe</th>\n",
       "      <th>MoyenneGen_i1</th>\n",
       "      <th>NbrJourAbsenceAutorise_i1</th>\n",
       "      <th>NbrUniteAbsenceAutorise_i1</th>\n",
       "      <th>NbrJourAbsenceNonAutorise_i1</th>\n",
       "      <th>NbrUniteAbsenceNonAutorise_i1</th>\n",
       "      <th>MCaRtable_i1</th>\n",
       "      <th>...</th>\n",
       "      <th>target</th>\n",
       "      <th>id_genre</th>\n",
       "      <th>datenaiseleve</th>\n",
       "      <th>nationalite</th>\n",
       "      <th>id_handicap</th>\n",
       "      <th>Adress</th>\n",
       "      <th>Préscolarisé</th>\n",
       "      <th>profession_mere</th>\n",
       "      <th>profession_pere</th>\n",
       "      <th>Level</th>\n",
       "    </tr>\n",
       "  </thead>\n",
       "  <tbody>\n",
       "    <tr>\n",
       "      <th>0</th>\n",
       "      <td>6048644</td>\n",
       "      <td>8</td>\n",
       "      <td>26186M</td>\n",
       "      <td>000B0B06-2DE7-4962-A248-DF7EB9487CD0</td>\n",
       "      <td>17.31</td>\n",
       "      <td>40.0</td>\n",
       "      <td>0.0</td>\n",
       "      <td>0.0</td>\n",
       "      <td>0.0</td>\n",
       "      <td>0</td>\n",
       "      <td>...</td>\n",
       "      <td>0.0</td>\n",
       "      <td>1</td>\n",
       "      <td>2002</td>\n",
       "      <td>1</td>\n",
       "      <td>0.0</td>\n",
       "      <td>حي الانارة زنقة1 درب16 رقم 173 مكناس</td>\n",
       "      <td>1</td>\n",
       "      <td>inconnu</td>\n",
       "      <td>Général</td>\n",
       "      <td>8</td>\n",
       "    </tr>\n",
       "    <tr>\n",
       "      <th>1</th>\n",
       "      <td>6103520</td>\n",
       "      <td>8</td>\n",
       "      <td>26186M</td>\n",
       "      <td>000B0B06-2DE7-4962-A248-DF7EB9487CD0</td>\n",
       "      <td>17.30</td>\n",
       "      <td>7.0</td>\n",
       "      <td>0.0</td>\n",
       "      <td>0.0</td>\n",
       "      <td>0.0</td>\n",
       "      <td>0</td>\n",
       "      <td>...</td>\n",
       "      <td>0.0</td>\n",
       "      <td>2</td>\n",
       "      <td>2002</td>\n",
       "      <td>1</td>\n",
       "      <td>0.0</td>\n",
       "      <td>زنقة 11 رقم 155 حي الانارة مكناس</td>\n",
       "      <td>0</td>\n",
       "      <td>inconnu</td>\n",
       "      <td>inconnu</td>\n",
       "      <td>8</td>\n",
       "    </tr>\n",
       "  </tbody>\n",
       "</table>\n",
       "<p>2 rows × 58 columns</p>\n",
       "</div>"
      ],
      "text/plain": [
       "   id_eleve  id_annee cd_etab                             id_classe  \\\n",
       "0   6048644         8  26186M  000B0B06-2DE7-4962-A248-DF7EB9487CD0   \n",
       "1   6103520         8  26186M  000B0B06-2DE7-4962-A248-DF7EB9487CD0   \n",
       "\n",
       "   MoyenneGen_i1  NbrJourAbsenceAutorise_i1  NbrUniteAbsenceAutorise_i1  \\\n",
       "0          17.31                       40.0                         0.0   \n",
       "1          17.30                        7.0                         0.0   \n",
       "\n",
       "   NbrJourAbsenceNonAutorise_i1  NbrUniteAbsenceNonAutorise_i1  MCaRtable_i1  \\\n",
       "0                           0.0                            0.0             0   \n",
       "1                           0.0                            0.0             0   \n",
       "\n",
       "   ...  target  id_genre  datenaiseleve  nationalite  id_handicap  \\\n",
       "0  ...     0.0         1           2002            1          0.0   \n",
       "1  ...     0.0         2           2002            1          0.0   \n",
       "\n",
       "                                   Adress  Préscolarisé  profession_mere  \\\n",
       "0    حي الانارة زنقة1 درب16 رقم 173 مكناس             1          inconnu   \n",
       "1        زنقة 11 رقم 155 حي الانارة مكناس             0          inconnu   \n",
       "\n",
       "   profession_pere  Level  \n",
       "0          Général      8  \n",
       "1          inconnu      8  \n",
       "\n",
       "[2 rows x 58 columns]"
      ]
     },
     "execution_count": 17,
     "metadata": {},
     "output_type": "execute_result"
    }
   ],
   "source": [
    "# Example query to retrieve all documents from the \"classes\" index\n",
    "response = es.search(index=\"data_middle_2\", body={\"query\": {\"match_all\": {}}})\n",
    "\n",
    "# Process the response (e.g., convert to DataFrame)\n",
    "hits = response[\"hits\"][\"hits\"]\n",
    "df_classes= pd.DataFrame([hit[\"_source\"] for hit in hits])\n",
    "\n",
    "# Display the DataFrame\n",
    "df_classes.head(2)"
   ]
  },
  {
   "cell_type": "markdown",
   "metadata": {},
   "source": [
    "Create data_middle_3"
   ]
  },
  {
   "cell_type": "code",
   "execution_count": 18,
   "metadata": {},
   "outputs": [
    {
     "name": "stdout",
     "output_type": "stream",
     "text": [
      "Indexed 299191 documents\n"
     ]
    },
    {
     "data": {
      "text/plain": [
       "ObjectApiResponse({'_shards': {'total': 2, 'successful': 1, 'failed': 0}})"
      ]
     },
     "execution_count": 18,
     "metadata": {},
     "output_type": "execute_result"
    }
   ],
   "source": [
    "\n",
    "# Create the index if it does not exist\n",
    "if not es.indices.exists(index=\"data_middle_3\"):\n",
    "    es.indices.create(index=\"data_middle_3\")\n",
    "\n",
    "# Create a generator to yield documents in the required format\n",
    "def doc_generator(df3):\n",
    "    for index, document in df3.iterrows():\n",
    "        yield {\n",
    "            \"_index\": \"data_middle_3\",\n",
    "            \"_id\": f\"doc_{index}\",\n",
    "            \"_source\": document.to_dict(),\n",
    "        }\n",
    "\n",
    "# Use helpers.bulk() to index documents in bulk\n",
    "try:\n",
    "    res = helpers.bulk(es, doc_generator(df3))\n",
    "    print(f\"Indexed {res[0]} documents\")\n",
    "except Exception as e:\n",
    "    print(\"Error:\", e)\n",
    "\n",
    "# Refresh the index to make the documents available for search\n",
    "es.indices.refresh(index=\"data_middle_3\")"
   ]
  },
  {
   "cell_type": "code",
   "execution_count": 19,
   "metadata": {},
   "outputs": [
    {
     "data": {
      "text/html": [
       "<div>\n",
       "<style scoped>\n",
       "    .dataframe tbody tr th:only-of-type {\n",
       "        vertical-align: middle;\n",
       "    }\n",
       "\n",
       "    .dataframe tbody tr th {\n",
       "        vertical-align: top;\n",
       "    }\n",
       "\n",
       "    .dataframe thead th {\n",
       "        text-align: right;\n",
       "    }\n",
       "</style>\n",
       "<table border=\"1\" class=\"dataframe\">\n",
       "  <thead>\n",
       "    <tr style=\"text-align: right;\">\n",
       "      <th></th>\n",
       "      <th>id_eleve</th>\n",
       "      <th>id_annee</th>\n",
       "      <th>cd_etab</th>\n",
       "      <th>id_classe</th>\n",
       "      <th>MoyenneGen_i1</th>\n",
       "      <th>NbrJourAbsenceAutorise_i1</th>\n",
       "      <th>NbrUniteAbsenceAutorise_i1</th>\n",
       "      <th>NbrJourAbsenceNonAutorise_i1</th>\n",
       "      <th>NbrUniteAbsenceNonAutorise_i1</th>\n",
       "      <th>MCaRtable_i1</th>\n",
       "      <th>...</th>\n",
       "      <th>target</th>\n",
       "      <th>id_genre</th>\n",
       "      <th>datenaiseleve</th>\n",
       "      <th>nationalite</th>\n",
       "      <th>id_handicap</th>\n",
       "      <th>Adress</th>\n",
       "      <th>Préscolarisé</th>\n",
       "      <th>profession_mere</th>\n",
       "      <th>profession_pere</th>\n",
       "      <th>Level</th>\n",
       "    </tr>\n",
       "  </thead>\n",
       "  <tbody>\n",
       "    <tr>\n",
       "      <th>0</th>\n",
       "      <td>7677825</td>\n",
       "      <td>10</td>\n",
       "      <td>02060N</td>\n",
       "      <td>129DABC3-8BC7-40D7-9B1B-3F48B91CBF02</td>\n",
       "      <td>14.08</td>\n",
       "      <td>45.0</td>\n",
       "      <td>8.0</td>\n",
       "      <td>0.0</td>\n",
       "      <td>4.0</td>\n",
       "      <td>0</td>\n",
       "      <td>...</td>\n",
       "      <td>0.0</td>\n",
       "      <td>2</td>\n",
       "      <td>2003</td>\n",
       "      <td>1</td>\n",
       "      <td>0.0</td>\n",
       "      <td></td>\n",
       "      <td>1</td>\n",
       "      <td>inconnu</td>\n",
       "      <td>retraité و</td>\n",
       "      <td>9</td>\n",
       "    </tr>\n",
       "    <tr>\n",
       "      <th>1</th>\n",
       "      <td>7330598</td>\n",
       "      <td>10</td>\n",
       "      <td>02060N</td>\n",
       "      <td>129DABC3-8BC7-40D7-9B1B-3F48B91CBF02</td>\n",
       "      <td>13.12</td>\n",
       "      <td>43.0</td>\n",
       "      <td>0.0</td>\n",
       "      <td>0.0</td>\n",
       "      <td>0.0</td>\n",
       "      <td>0</td>\n",
       "      <td>...</td>\n",
       "      <td>0.0</td>\n",
       "      <td>1</td>\n",
       "      <td>2001</td>\n",
       "      <td>1</td>\n",
       "      <td>0.0</td>\n",
       "      <td>دوار كورات</td>\n",
       "      <td>0</td>\n",
       "      <td>inconnu</td>\n",
       "      <td>inconnu</td>\n",
       "      <td>9</td>\n",
       "    </tr>\n",
       "  </tbody>\n",
       "</table>\n",
       "<p>2 rows × 72 columns</p>\n",
       "</div>"
      ],
      "text/plain": [
       "   id_eleve  id_annee cd_etab                             id_classe  \\\n",
       "0   7677825        10  02060N  129DABC3-8BC7-40D7-9B1B-3F48B91CBF02   \n",
       "1   7330598        10  02060N  129DABC3-8BC7-40D7-9B1B-3F48B91CBF02   \n",
       "\n",
       "   MoyenneGen_i1  NbrJourAbsenceAutorise_i1  NbrUniteAbsenceAutorise_i1  \\\n",
       "0          14.08                       45.0                         8.0   \n",
       "1          13.12                       43.0                         0.0   \n",
       "\n",
       "   NbrJourAbsenceNonAutorise_i1  NbrUniteAbsenceNonAutorise_i1  MCaRtable_i1  \\\n",
       "0                           0.0                            4.0             0   \n",
       "1                           0.0                            0.0             0   \n",
       "\n",
       "   ...  target  id_genre  datenaiseleve  nationalite  id_handicap  \\\n",
       "0  ...     0.0         2           2003            1          0.0   \n",
       "1  ...     0.0         1           2001            1          0.0   \n",
       "\n",
       "        Adress  Préscolarisé  profession_mere  profession_pere  Level  \n",
       "0                          1          inconnu       retraité و      9  \n",
       "1   دوار كورات             0          inconnu          inconnu      9  \n",
       "\n",
       "[2 rows x 72 columns]"
      ]
     },
     "execution_count": 19,
     "metadata": {},
     "output_type": "execute_result"
    }
   ],
   "source": [
    "# Example query to retrieve all documents from the \"classes\" index\n",
    "response = es.search(index=\"data_middle_3\", body={\"query\": {\"match_all\": {}}})\n",
    "\n",
    "# Process the response (e.g., convert to DataFrame)\n",
    "hits = response[\"hits\"][\"hits\"]\n",
    "df_classes= pd.DataFrame([hit[\"_source\"] for hit in hits])\n",
    "\n",
    "# Display the DataFrame\n",
    "df_classes.head(2)"
   ]
  }
 ],
 "metadata": {
  "kernelspec": {
   "display_name": "Dews",
   "language": "python",
   "name": "python3"
  },
  "language_info": {
   "codemirror_mode": {
    "name": "ipython",
    "version": 3
   },
   "file_extension": ".py",
   "mimetype": "text/x-python",
   "name": "python",
   "nbconvert_exporter": "python",
   "pygments_lexer": "ipython3",
   "version": "3.8.20"
  }
 },
 "nbformat": 4,
 "nbformat_minor": 2
}
